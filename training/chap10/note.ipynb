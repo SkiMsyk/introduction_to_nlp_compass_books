{
 "cells": [
  {
   "cell_type": "markdown",
   "metadata": {},
   "source": [
    "# Sequence labeling  \n",
    "\n",
    "---\n",
    "## Project structure  \n",
    "```\n",
    "|---- data\n",
    "|    |---- ja.wikipedia.conll\n",
    "|---- models/\n",
    "|---- inference.py\n",
    "|---- models.py\n",
    "|---- preprocessing.py\n",
    "|---- train.py\n",
    "|---- utils.py\n",
    "```"
   ]
  },
  {
   "cell_type": "markdown",
   "metadata": {},
   "source": [
    "--- \n",
    "## Preparing dataset"
   ]
  },
  {
   "cell_type": "code",
   "execution_count": 4,
   "metadata": {},
   "outputs": [],
   "source": [
    "!mkdir data models\n",
    "!touch inference.py models.py preprocessing.py train.py utils.py"
   ]
  },
  {
   "cell_type": "code",
   "execution_count": 15,
   "metadata": {},
   "outputs": [
    {
     "name": "stdout",
     "output_type": "stream",
     "text": [
      "--2020-03-21 11:41:59--  https://raw.githubusercontent.com/Hironsan/IOB2Corpus/master/ja.wikipedia.conll\n",
      "raw.githubusercontent.com (raw.githubusercontent.com) をDNSに問いあわせています... 151.101.108.133\n",
      "raw.githubusercontent.com (raw.githubusercontent.com)|151.101.108.133|:443 に接続しています... 接続しました。\n",
      "HTTP による接続要求を送信しました、応答を待っています... 200 OK\n",
      "長さ: 1297592 (1.2M) [text/plain]\n",
      "`data/ja.wikipedia.conll' に保存中\n",
      "\n",
      "ja.wikipedia.conll  100%[===================>]   1.24M  7.13MB/s 時間 0.2s       \n",
      "\n",
      "2020-03-21 11:42:00 (7.13 MB/s) - `data/ja.wikipedia.conll' へ保存完了 [1297592/1297592]\n",
      "\n"
     ]
    }
   ],
   "source": [
    "!wget -P data/ https://raw.githubusercontent.com/Hironsan/IOB2Corpus/master/ja.wikipedia.conll"
   ]
  },
  {
   "cell_type": "markdown",
   "metadata": {},
   "source": [
    "## Description of ja.wikipedia.conll  \n",
    "|type|tag|example|\n",
    "|:-|:-|:-|\n",
    "|地名|Location|アメリカ，千葉県|\n",
    "|組織|Organization|自民党，NHK|\n",
    "|人名|Person|安倍晋三，メルケル|\n",
    "|イベント|Event|湾岸戦争，大化の改新|\n",
    "|固有物名|Artifact|ドラゴンボール，ZIP!|\n",
    "|日付|Date|2020/03/21，１月２９日|\n",
    "|時間|Time|午後３時，10:30|\n",
    "|金額|Monye|200円，10ドル，5\\\\$|\n",
    "|割合|Percent|10\\%, ３割|\n",
    "|数値|Number|1つ，３個|\n",
    "|その他|Other|民主主義，仏教|\n",
    "\n",
    "### head of contents\n",
    "```\n",
    "1960\\tB-DATE\n",
    "年代\\tI-DATE\n",
    "と\\tO\n",
    "1970\\tB-DATE\n",
    "年代\\tI-DATE\n",
    "の\\tO\n",
    "間\\tO\n",
    "に\\tO\n",
    "、\\tO\n",
    "ジョエル\\tB-PERSON\n",
    "・\\tI-PERSON\n",
    "モーゼス\\tI-PERSON\n",
    "```"
   ]
  },
  {
   "cell_type": "markdown",
   "metadata": {},
   "source": [
    "# 固有表現認識の評価  \n",
    "* よく使われるのは$F_1$\n",
    "\n",
    "## ポイント  \n",
    "評価は**固有表現単位**で行われる．"
   ]
  },
  {
   "cell_type": "code",
   "execution_count": 16,
   "metadata": {},
   "outputs": [
    {
     "name": "stdout",
     "output_type": "stream",
     "text": [
      "Collecting seqeval\n",
      "  Downloading seqeval-0.0.12.tar.gz (21 kB)\n",
      "Requirement already satisfied: numpy>=1.14.0 in /Users/sakaimasayuki/.pyenv/versions/3.7.5/lib/python3.7/site-packages (from seqeval) (1.18.0)\n",
      "Collecting Keras>=2.2.4\n",
      "  Downloading Keras-2.3.1-py2.py3-none-any.whl (377 kB)\n",
      "\u001b[K     |████████████████████████████████| 377 kB 10.2 MB/s eta 0:00:01\n",
      "\u001b[?25hCollecting pyyaml\n",
      "  Downloading PyYAML-5.3.1.tar.gz (269 kB)\n",
      "\u001b[K     |████████████████████████████████| 269 kB 27.1 MB/s eta 0:00:01\n",
      "\u001b[?25hRequirement already satisfied: h5py in /Users/sakaimasayuki/.pyenv/versions/3.7.5/lib/python3.7/site-packages (from Keras>=2.2.4->seqeval) (2.10.0)\n",
      "Requirement already satisfied: keras-preprocessing>=1.0.5 in /Users/sakaimasayuki/.pyenv/versions/3.7.5/lib/python3.7/site-packages (from Keras>=2.2.4->seqeval) (1.1.0)\n",
      "Requirement already satisfied: scipy>=0.14 in /Users/sakaimasayuki/.pyenv/versions/3.7.5/lib/python3.7/site-packages (from Keras>=2.2.4->seqeval) (1.4.1)\n",
      "Requirement already satisfied: keras-applications>=1.0.6 in /Users/sakaimasayuki/.pyenv/versions/3.7.5/lib/python3.7/site-packages (from Keras>=2.2.4->seqeval) (1.0.8)\n",
      "Requirement already satisfied: six>=1.9.0 in /Users/sakaimasayuki/.pyenv/versions/3.7.5/lib/python3.7/site-packages (from Keras>=2.2.4->seqeval) (1.13.0)\n",
      "Building wheels for collected packages: seqeval, pyyaml\n",
      "  Building wheel for seqeval (setup.py) ... \u001b[?25ldone\n",
      "\u001b[?25h  Created wheel for seqeval: filename=seqeval-0.0.12-py3-none-any.whl size=7423 sha256=a307c1e1c012f2e988400098035948522defab89e48d116b9e2541e6886de070\n",
      "  Stored in directory: /Users/sakaimasayuki/Library/Caches/pip/wheels/dc/cc/62/a3b81f92d35a80e39eb9b2a9d8b31abac54c02b21b2d466edc\n",
      "  Building wheel for pyyaml (setup.py) ... \u001b[?25ldone\n",
      "\u001b[?25h  Created wheel for pyyaml: filename=PyYAML-5.3.1-cp37-cp37m-macosx_10_14_x86_64.whl size=44627 sha256=2e8810060b58100c9dd86a07e26788de6f1702e4a2a708b43e16f75fbdbb8149\n",
      "  Stored in directory: /Users/sakaimasayuki/Library/Caches/pip/wheels/5e/03/1e/e1e954795d6f35dfc7b637fe2277bff021303bd9570ecea653\n",
      "Successfully built seqeval pyyaml\n",
      "Installing collected packages: pyyaml, Keras, seqeval\n",
      "Successfully installed Keras-2.3.1 pyyaml-5.3.1 seqeval-0.0.12\n"
     ]
    }
   ],
   "source": [
    "!pip install seqeval"
   ]
  },
  {
   "cell_type": "markdown",
   "metadata": {},
   "source": [
    "[Official documents](https://github.com/chakki-works/seqeval)"
   ]
  },
  {
   "cell_type": "code",
   "execution_count": null,
   "metadata": {},
   "outputs": [],
   "source": []
  }
 ],
 "metadata": {
  "kernelspec": {
   "display_name": "Python 3",
   "language": "python",
   "name": "python3"
  },
  "language_info": {
   "codemirror_mode": {
    "name": "ipython",
    "version": 3
   },
   "file_extension": ".py",
   "mimetype": "text/x-python",
   "name": "python",
   "nbconvert_exporter": "python",
   "pygments_lexer": "ipython3",
   "version": "3.7.5"
  }
 },
 "nbformat": 4,
 "nbformat_minor": 4
}
