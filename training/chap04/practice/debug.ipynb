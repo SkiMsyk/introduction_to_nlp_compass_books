{
 "cells": [
  {
   "cell_type": "code",
   "execution_count": 15,
   "metadata": {},
   "outputs": [],
   "source": [
    "import re\n",
    "import string\n",
    "import pandas as pd \n",
    "\n",
    "from bs4 import BeautifulSoup\n",
    "from janome.tokenizer import Tokenizer\n",
    "\n",
    "\n",
    "from sklearn.feature_extraction.text import CountVectorizer\n",
    "from sklearn.linear_model import LogisticRegression\n",
    "from sklearn.metrics import accuracy_score\n",
    "from sklearn.model_selection import train_test_split \n",
    "\n",
    "from preprocessing import clean_html, normalize_number, tokenize, tokenize_base_form\n",
    "from utils import load_dataset, train_and_eval \n"
   ]
  },
  {
   "cell_type": "code",
   "execution_count": 2,
   "metadata": {},
   "outputs": [],
   "source": [
    "x, y = load_dataset('data/amazon_reviews_multilingual_JP_v1_00.tsv', n=1000)\n",
    "x_train, x_test, y_train, y_test = train_test_split(x, y, test_size = 0.2, random_state=42)"
   ]
  },
  {
   "cell_type": "code",
   "execution_count": 3,
   "metadata": {},
   "outputs": [
    {
     "name": "stdout",
     "output_type": "stream",
     "text": [
      "Tokenization only.\n",
      "0.4010\n"
     ]
    }
   ],
   "source": [
    "print('Tokenization only.')\n",
    "train_and_eval(x_train, y_train, x_test, y_test, tokenize = tokenize)"
   ]
  },
  {
   "cell_type": "code",
   "execution_count": 18,
   "metadata": {},
   "outputs": [
    {
     "name": "stdout",
     "output_type": "stream",
     "text": [
      "Clean html.\n"
     ]
    }
   ],
   "source": [
    "print('Clean html.')\n",
    "\n",
    "def clean_html(html, strip=False):\n",
    "    soup = BeautifulSoup(html, 'html.parser')\n",
    "    text = soup.get_text(strip=strip)\n",
    "    return text\n",
    "\n",
    "vectorizer = CountVectorizer(lowercase=False, tokenizer=tokenize, preprocessor=clean_html)"
   ]
  },
  {
   "cell_type": "code",
   "execution_count": 19,
   "metadata": {},
   "outputs": [],
   "source": [
    "x_train_vec = vectorizer.fit_transform(x_train)"
   ]
  },
  {
   "cell_type": "code",
   "execution_count": 12,
   "metadata": {},
   "outputs": [
    {
     "name": "stdout",
     "output_type": "stream",
     "text": [
      "0.4010\n"
     ]
    }
   ],
   "source": [
    "x_test_vec = vectorizer.transform(x_test)\n",
    "clf = LogisticRegression(solver='liblinear')\n",
    "clf.fit(x_train_vec, y_train)\n",
    "y_pred = clf.predict(x_test_vec)\n",
    "score = accuracy_score(y_test, y_pred)\n",
    "print('{:.4f}'.format(score))"
   ]
  },
  {
   "cell_type": "code",
   "execution_count": null,
   "metadata": {},
   "outputs": [],
   "source": []
  }
 ],
 "metadata": {
  "kernelspec": {
   "display_name": "Python 3",
   "language": "python",
   "name": "python3"
  },
  "language_info": {
   "codemirror_mode": {
    "name": "ipython",
    "version": 3
   },
   "file_extension": ".py",
   "mimetype": "text/x-python",
   "name": "python",
   "nbconvert_exporter": "python",
   "pygments_lexer": "ipython3",
   "version": "3.7.5"
  }
 },
 "nbformat": 4,
 "nbformat_minor": 4
}
