{
 "cells": [
  {
   "cell_type": "markdown",
   "metadata": {},
   "source": [
    "# テキスト分類  \n",
    "ここで扱うこと  \n",
    "1. テキスト分類\n",
    "1. RNNとテキスト分類\n",
    "1. Long Short Term Momery(LSTM)\n",
    "1. Convolutional Neural Netword(CNN)\n",
    "1. CNNとテキスト分類\n",
    "1. 学習済み単語分散表現の使用方法"
   ]
  },
  {
   "cell_type": "markdown",
   "metadata": {},
   "source": [
    "# テキスト分類とは(Text Classification)  \n",
    "テキストを事前に決められたカテゴリに分類すること．"
   ]
  },
  {
   "cell_type": "markdown",
   "metadata": {},
   "source": [
    "## 実例  \n",
    "プロジェクト構成\n",
    "```\n",
    "|---- chap04\n",
    "    |---- data\n",
    "        |---- cc.ja.300.vec.gz\n",
    "|---- chap09\n",
    "    |---- data\n",
    "        |---- amazon_reviews_multilingual_JP_v1_00.tsv\n",
    "    |---- models/\n",
    "    |---- inferences.py\n",
    "    |---- preprocessing.py\n",
    "    |---- train.py\n",
    "    |---- utils.py\n",
    "\n",
    "```"
   ]
  },
  {
   "cell_type": "markdown",
   "metadata": {},
   "source": [
    "## テキスト分類の評価  \n",
    "- 正解率\n",
    "- 適合率\n",
    "- 再現率  \n",
    "\n",
    "### 混合行列 Confusion Matrix  \n",
    "||prediction||\n",
    "|:-|:-|:-|\n",
    "|**observation**|True-Positive|False-Negative|\n",
    "||False-Positive|True-Negative|\n",
    "\n",
    "### Model validation\n",
    "\n",
    "$$\n",
    "\\begin{aligned}\n",
    "\\rm Accuracy  &= \\rm \\frac{TP + TN}{TP + FP + TN + FN } \\\\\n",
    "\\rm Precision &= \\rm \\frac{TP}{TP + FP} \\\\\n",
    "\\rm Recall    &= \\rm \\frac{TP}{TP + FN}\n",
    "\\end{aligned}\n",
    "$$\n",
    "\n",
    "### $F_1$ score\n",
    "\n",
    "$$\n",
    "\\rm F_1 = \\rm \\frac{2 \\cdot Precision \\cdot Recall}{Precision + Recall}\n",
    "$$"
   ]
  },
  {
   "cell_type": "markdown",
   "metadata": {},
   "source": [
    "# Multi-Class evaluation  \n",
    "\n",
    "$$\n",
    "\\begin{aligned}\n",
    "    TP_k &= c_{kk} \\\\\n",
    "    FP_k &= \\sum_{j=1}^{n} c_{jk} - TP_k\n",
    "\\end{aligned}\n",
    "$$\n",
    "\n",
    "$$\n",
    "\\begin{aligned}\n",
    "    P_{micro} &= \\frac{TP_1 + \\cdots + TP_n}{TP_1 + \\cdots + TP_n + FP_1 + \\cdots + FP_n} \\\\\n",
    "    P_{macro} &= \\frac{P_1 + \\cdots + P_n}{n} \\\\\n",
    "    P_k &= \\frac{TP_k}{TP_k + FP_k}\n",
    "\\end{aligned}\n",
    "$$"
   ]
  },
  {
   "cell_type": "markdown",
   "metadata": {},
   "source": [
    "# LSTM: Long Short Term Memory  \n",
    "RNNより長期の依存性を考慮できるモデル．  \n",
    "入出力はRNNと同様だが，内部構造に工夫がある．  \n",
    "RNNは1つの$\\tanh$から構成されていたのに対して，LSTMは4つの層から構成される．  \n",
    "\n",
    "考え方，**まずは重要でないことを忘れてから重要なことを記憶する**  \n",
    "\n",
    "LSTMにはセル状態$C_t$と隠れ状態$h_t$という2つの状態がある．また，セル状態に情報を忘れさせたり記憶させたりする仕組みを持つ．　　\n",
    "情報の伝達率をシグモイド関数で制御する．  \n",
    "\n",
    "## Gate \n",
    "LSTMが３持つ3種類のゲート．\n",
    "\n",
    "1. Forget Gate \n",
    "1. Input Gate  \n",
    "1. Output Gate \n",
    "\n",
    "## Forget Gate  \n",
    "\n",
    "$$\n",
    "f_t = \\sigma (W_f \\cdot [h_{t-1}, x_t] + b_f)\n",
    "$$\n",
    "\n",
    "## Input Gate \n",
    "\n",
    "$$\n",
    "\\begin{aligned}\n",
    "    i_t &= \\sigma (W_i \\cdot [h_{t-1}, x_t] + b_i) \\\\\n",
    "    \\tilde C_t &= \\tanh (W_c \\cdot [h_{t-1}, x_t] + b_c)\n",
    "\\end{aligned}\n",
    "$$\n",
    "\n",
    "## Output Gate  \n",
    "\n",
    "$$\n",
    "\\begin{aligned}\n",
    "    C_t &= f_t \\ast C_{t-1} + i_t \\ast \\tilde C_t \\\\\n",
    "    o_t &= \\sigma (W_o \\cdot [h_{t-1}, x_t] + b_o) \\\\\n",
    "    h_t &= o_t \\ast \\tanh (C_t)\n",
    "\\end{aligned}\n",
    "$$"
   ]
  },
  {
   "cell_type": "markdown",
   "metadata": {},
   "source": [
    "# LSTMによるテキスト分類機の構築  "
   ]
  },
  {
   "cell_type": "code",
   "execution_count": null,
   "metadata": {},
   "outputs": [],
   "source": []
  }
 ],
 "metadata": {
  "kernelspec": {
   "display_name": "Python 3",
   "language": "python",
   "name": "python3"
  },
  "language_info": {
   "codemirror_mode": {
    "name": "ipython",
    "version": 3
   },
   "file_extension": ".py",
   "mimetype": "text/x-python",
   "name": "python",
   "nbconvert_exporter": "python",
   "pygments_lexer": "ipython3",
   "version": "3.7.5"
  }
 },
 "nbformat": 4,
 "nbformat_minor": 4
}
